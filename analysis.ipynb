{
 "cells": [
  {
   "cell_type": "code",
   "execution_count": 257,
   "metadata": {},
   "outputs": [],
   "source": [
    "import pandas as pd\n",
    "import numpy as np\n",
    "import sklearn\n",
    "import matplotlib.mlab as mlab\n",
    "import matplotlib.pyplot as plt\n",
    "from sklearn.preprocessing import StandardScaler\n",
    "from sklearn import model_selection as ms\n",
    "from sklearn.linear_model import LogisticRegression\n",
    "from sklearn.feature_selection import RFE\n",
    "from sklearn.metrics import confusion_matrix\n",
    "from sklearn.metrics import classification_report\n",
    "from sklearn.metrics import roc_auc_score\n",
    "from sklearn.metrics import roc_curve\n",
    "from sklearn.neighbors import KNeighborsClassifier\n",
    "from sklearn.ensemble import RandomForestClassifier\n",
    "from sklearn.ensemble import RandomForestRegressor\n",
    "from sklearn.neighbors import KNeighborsRegressor\n"
   ]
  },
  {
   "cell_type": "markdown",
   "metadata": {},
   "source": [
    "## Table of Contents:\n",
    "* [Defining methods](#models)\n",
    "* [Predicitng Poor Posture](#poor-posture)\n",
    "* [Predicting Pain Severity](#pain-severity)\n",
    "* [Predicting where someone may experience back pain](#pain-loc)\n",
    "* [Predicting when someone may experience back pain](#pain-when)\n",
    "* [Predicting sleep habits](#sleep)\n",
    "* [Predicting activity levels](#activity)"
   ]
  },
  {
   "cell_type": "code",
   "execution_count": 353,
   "metadata": {},
   "outputs": [],
   "source": [
    "#read in full file\n",
    "survey= pd.read_csv(\"grouped.csv\", names=[\"time\",\"age\",\"country\",\"city\",\"sex\",\"commute_type\",\"commute_time\",\"sit_ratio\",\"sleep_sat\",\"sleep_pos\",\"activity\",\"tracker\",\"posture\",\"posture_concern\",\"pain_freq\",\"pain_severe\",\"pain_loc\",\"pain_time\",\"medical_type\",\"like_least\"],header=0)\n",
    "#read in cleaned file\n",
    "surveysubd = pd.read_csv(\"cleaned.csv\",header=0)\n"
   ]
  },
  {
   "cell_type": "code",
   "execution_count": 354,
   "metadata": {},
   "outputs": [
    {
     "name": "stderr",
     "output_type": "stream",
     "text": [
      "C:\\Users\\John\\Anaconda3\\lib\\site-packages\\pandas\\core\\indexing.py:362: SettingWithCopyWarning: \n",
      "A value is trying to be set on a copy of a slice from a DataFrame.\n",
      "Try using .loc[row_indexer,col_indexer] = value instead\n",
      "\n",
      "See the caveats in the documentation: http://pandas.pydata.org/pandas-docs/stable/indexing.html#indexing-view-versus-copy\n",
      "  self.obj[key] = _infer_fill_value(value)\n",
      "C:\\Users\\John\\Anaconda3\\lib\\site-packages\\pandas\\core\\indexing.py:543: SettingWithCopyWarning: \n",
      "A value is trying to be set on a copy of a slice from a DataFrame.\n",
      "Try using .loc[row_indexer,col_indexer] = value instead\n",
      "\n",
      "See the caveats in the documentation: http://pandas.pydata.org/pandas-docs/stable/indexing.html#indexing-view-versus-copy\n",
      "  self.obj[item] = s\n"
     ]
    }
   ],
   "source": [
    "#remove NAs (7%) and add three new binary variables based on existing ordinal variables\n",
    "X=surveysubd.dropna()\n",
    "X.loc[:,\"poor_posture\"] =[0] * len(X.loc[:,\"posture\"])\n",
    "X.loc[X[X.loc[:,'posture']<3].index,'poor_posture']=1\n",
    "X.loc[:,\"back_pain_freq\"] =[0] * len(X.loc[:,\"posture\"])\n",
    "X.loc[X[X.loc[:,'pain_freq']>=3].index,'back_pain_freq']=1\n",
    "X.loc[:,\"back_pain_sev\"] =[0] * len(X.loc[:,\"posture\"])\n",
    "X.loc[X[X.loc[:,'pain_severe']>=3].index,'back_pain_sev']=1\n"
   ]
  },
  {
   "cell_type": "markdown",
   "metadata": {},
   "source": [
    "### <a class='anchor' id=\"models\">Functions</a>"
   ]
  },
  {
   "cell_type": "code",
   "execution_count": 274,
   "metadata": {},
   "outputs": [],
   "source": [
    "def run_Logistic_Regression(X, y, X_train,y_train, X_test,y_test, solver=\"liblinear\", multi_class=\"auto\", extra=True):\n",
    "    \"\"\"\n",
    "    Runs a logisitc regression model based on given training/test\n",
    "    data and displays summary information and performance metrics.\n",
    "    \n",
    "    :param X: full dataset without the target variable\n",
    "    :param y: target variable\n",
    "    :param X_train: data set to be train model\n",
    "    :param y_train: the known target values to train the model\n",
    "    :param X_test: data set to run trained model on\n",
    "    :param y_Test: data set to test model performance\n",
    "    :param solver: Algorithm to use in the optimization problem \n",
    "    :param multi_class: string determining the whether binary or multinomial regression is performed\n",
    "    :param extra: boolean to determine if extra sumamry metrics should be produced\n",
    "    :return: returns pandas data frame containing the feature_importance for each feature in data.\n",
    "    \"\"\"\n",
    "    \n",
    "    logreg = LogisticRegression(solver=solver,multi_class=multi_class,random_state=20)\n",
    "    rfe = RFE(logreg)\n",
    "    rfe= rfe.fit(X, y.values.ravel())\n",
    "    importance=pd.DataFrame([rfe.support_,rfe.ranking_])\n",
    "    importance.columns=X.columns\n",
    "    \n",
    "    result=logreg.fit(X_train, y_train.values.ravel())\n",
    "    y_predictions = logreg.predict(X_test)\n",
    "    print(\"All Features:\")\n",
    "\n",
    "    print('Accuracy of logistic regression classifier on test set: {:.2f}'.format(logreg.score(X_test, y_test)))\n",
    "    confusion_matrix0 = confusion_matrix(y_test, y_predictions)\n",
    "    print(confusion_matrix0)\n",
    "    print(classification_report(y_test, y_predictions))\n",
    "    \n",
    "    resultred=logreg.fit(X_train.loc[:,rfe.support_], y_train.values.ravel())\n",
    "    y_pred = logreg.predict(X_test.loc[:,rfe.support_])\n",
    "    print(\"Reduced Features:\")\n",
    "\n",
    "    print('Accuracy of logistic regression classifier on test set: {:.2f}'.format(logreg.score(X_test.loc[:,rfe.support_], y_test)))\n",
    "    if extra:\n",
    "        confusion_matrix1 = confusion_matrix(y_test, y_pred)\n",
    "        print(confusion_matrix1)\n",
    "        print(classification_report(y_test, y_pred))\n",
    "\n",
    "        logit_roc_auc = roc_auc_score(y_test, y_pred)\n",
    "        fpr, tpr, thresholds = roc_curve(y_test, logreg.predict_proba(X_test.loc[:,rfe.support_])[:,1])\n",
    "        plt.figure()\n",
    "        plt.plot(fpr, tpr, label='Logistic Regression (area = %0.2f)' % logit_roc_auc)\n",
    "        plt.plot([0, 1], [0, 1],'r--')\n",
    "        plt.xlim([0.0, 1.0])\n",
    "        plt.ylim([0.0, 1.05])\n",
    "        plt.xlabel('False Positive Rate')\n",
    "        plt.ylabel('True Positive Rate')\n",
    "        plt.title('Receiver operating characteristic')\n",
    "        plt.legend(loc=\"lower right\")\n",
    "        plt.savefig('Log_ROC')\n",
    "        plt.show()\n",
    "    \n",
    "    return(importance)"
   ]
  },
  {
   "cell_type": "code",
   "execution_count": 285,
   "metadata": {},
   "outputs": [],
   "source": [
    "def run_Random_Forest_Classifier(X_train,y_train,X_test,y_test,n_estimators = 1200, random_state = 20):\n",
    "    \"\"\"\n",
    "    Runs a random forest classification model based on given training/test\n",
    "    data and displays summary information and performance metrics.\n",
    "    \n",
    "    :param X_train: data set to be train model\n",
    "    :param y_train: the known target values to train the model\n",
    "    :param X_test: data set to run trained model on\n",
    "    :param y_Test: data set to test model performance\n",
    "    :param n_estimators: number of trees in forest\n",
    "    :return: returns pandas data frame containing the feature_importance for each feature in data.\n",
    "    \"\"\"\n",
    "    rf_f = RandomForestClassifier(n_estimators = n_estimators, random_state = random_state)\n",
    "    # Train the model on training data\n",
    "    rf_f.fit(X_train, y_train.values.ravel())\n",
    "    predictions_f = rf_f.predict(X_test)\n",
    "    print('Accuracy of random forest classifier on test set: {:.2f}'.format(rf_f.score(X_test, y_test)))\n",
    "    confusion_matrixrf_f = confusion_matrix(y_test, predictions_f)\n",
    "    print(confusion_matrixrf_f)\n",
    "    print(classification_report(y_test, predictions_f))\n",
    "    \n",
    "    rf_roc_auc = roc_auc_score(y_test, rf.predict(X_test))\n",
    "    fpr, tpr, thresholds = roc_curve(y_test, rf.predict_proba(X_test)[:,1])\n",
    "    plt.figure()\n",
    "    plt.plot(fpr, tpr, label='Random Forest Classifer (area = %0.2f)' % rf_roc_auc)\n",
    "    plt.plot([0, 1], [0, 1],'r--')\n",
    "    plt.xlim([0.0, 1.0])\n",
    "    plt.ylim([0.0, 1.05])\n",
    "    plt.xlabel('False Positive Rate')\n",
    "    plt.ylabel('True Positive Rate')\n",
    "    plt.title('Receiver operating characteristic')\n",
    "    plt.legend(loc=\"lower right\")\n",
    "    plt.savefig('Log_ROC')\n",
    "    plt.show()\n",
    "    \n",
    "    return(pd.DataFrame(rf.feature_importances_.reshape(-1, len(rf.feature_importances_)), columns=X_train.columns))"
   ]
  },
  {
   "cell_type": "markdown",
   "metadata": {},
   "source": [
    "### <a class=\"anchor\" id=\"poor-posture\">Classifying people who have bad posture </a>"
   ]
  },
  {
   "cell_type": "code",
   "execution_count": 308,
   "metadata": {},
   "outputs": [],
   "source": [
    "#seperate out target variable and create train and test\n",
    "y_m=pd.DataFrame(X[\"poor_posture\"], columns=[\"poor_posture\"])\n",
    "X_m=X.drop([\"poor_posture\",\"posture\"], axis=1)\n",
    "X_train, X_test, y_train, y_test = ms.train_test_split(X_m, y_m, test_size=0.3, random_state=20)"
   ]
  },
  {
   "cell_type": "markdown",
   "metadata": {},
   "source": [
    "#### Logistic Regression"
   ]
  },
  {
   "cell_type": "markdown",
   "metadata": {},
   "source": [
    "#### Feature Importance Table"
   ]
  },
  {
   "cell_type": "code",
   "execution_count": 171,
   "metadata": {},
   "outputs": [],
   "source": [
    "#run_Logistic_Regression(X_train,X_test,y_train,y_test)"
   ]
  },
  {
   "cell_type": "code",
   "execution_count": 335,
   "metadata": {},
   "outputs": [],
   "source": [
    "#use RFE to step wise determine the optimal features\n",
    "logreg = LogisticRegression(solver=\"liblinear\")\n",
    "rfe = RFE(logreg)\n",
    "rfe = rfe.fit(X_m, y_m.values.ravel())"
   ]
  },
  {
   "cell_type": "code",
   "execution_count": 336,
   "metadata": {
    "scrolled": true
   },
   "outputs": [
    {
     "data": {
      "text/html": [
       "<div>\n",
       "<style scoped>\n",
       "    .dataframe tbody tr th:only-of-type {\n",
       "        vertical-align: middle;\n",
       "    }\n",
       "\n",
       "    .dataframe tbody tr th {\n",
       "        vertical-align: top;\n",
       "    }\n",
       "\n",
       "    .dataframe thead th {\n",
       "        text-align: right;\n",
       "    }\n",
       "</style>\n",
       "<table border=\"1\" class=\"dataframe\">\n",
       "  <thead>\n",
       "    <tr style=\"text-align: right;\">\n",
       "      <th></th>\n",
       "      <th>commute_time</th>\n",
       "      <th>sit_ratio</th>\n",
       "      <th>sleep_sat</th>\n",
       "      <th>activity</th>\n",
       "      <th>pain_freq</th>\n",
       "      <th>pain_severe</th>\n",
       "      <th>commute_bike</th>\n",
       "      <th>commute_walk</th>\n",
       "      <th>commute_drive</th>\n",
       "      <th>commute_public</th>\n",
       "      <th>...</th>\n",
       "      <th>country_singapore</th>\n",
       "      <th>country_spain</th>\n",
       "      <th>country_uae</th>\n",
       "      <th>country_usa</th>\n",
       "      <th>tracker_No</th>\n",
       "      <th>tracker_Own, but do not use</th>\n",
       "      <th>tracker_Yes</th>\n",
       "      <th>age</th>\n",
       "      <th>back_pain_freq</th>\n",
       "      <th>back_pain_sev</th>\n",
       "    </tr>\n",
       "  </thead>\n",
       "  <tbody>\n",
       "    <tr>\n",
       "      <th>0</th>\n",
       "      <td>True</td>\n",
       "      <td>False</td>\n",
       "      <td>True</td>\n",
       "      <td>False</td>\n",
       "      <td>False</td>\n",
       "      <td>False</td>\n",
       "      <td>False</td>\n",
       "      <td>False</td>\n",
       "      <td>False</td>\n",
       "      <td>True</td>\n",
       "      <td>...</td>\n",
       "      <td>False</td>\n",
       "      <td>True</td>\n",
       "      <td>False</td>\n",
       "      <td>True</td>\n",
       "      <td>True</td>\n",
       "      <td>True</td>\n",
       "      <td>False</td>\n",
       "      <td>False</td>\n",
       "      <td>False</td>\n",
       "      <td>False</td>\n",
       "    </tr>\n",
       "    <tr>\n",
       "      <th>1</th>\n",
       "      <td>1</td>\n",
       "      <td>12</td>\n",
       "      <td>1</td>\n",
       "      <td>5</td>\n",
       "      <td>14</td>\n",
       "      <td>17</td>\n",
       "      <td>18</td>\n",
       "      <td>8</td>\n",
       "      <td>4</td>\n",
       "      <td>1</td>\n",
       "      <td>...</td>\n",
       "      <td>3</td>\n",
       "      <td>1</td>\n",
       "      <td>25</td>\n",
       "      <td>1</td>\n",
       "      <td>1</td>\n",
       "      <td>1</td>\n",
       "      <td>21</td>\n",
       "      <td>23</td>\n",
       "      <td>15</td>\n",
       "      <td>2</td>\n",
       "    </tr>\n",
       "  </tbody>\n",
       "</table>\n",
       "<p>2 rows × 48 columns</p>\n",
       "</div>"
      ],
      "text/plain": [
       "  commute_time sit_ratio sleep_sat activity pain_freq pain_severe  \\\n",
       "0         True     False      True    False     False       False   \n",
       "1            1        12         1        5        14          17   \n",
       "\n",
       "  commute_bike commute_walk commute_drive commute_public  ...  \\\n",
       "0        False        False         False           True  ...   \n",
       "1           18            8             4              1  ...   \n",
       "\n",
       "  country_singapore country_spain country_uae country_usa tracker_No  \\\n",
       "0             False          True       False        True       True   \n",
       "1                 3             1          25           1          1   \n",
       "\n",
       "  tracker_Own, but do not use tracker_Yes    age back_pain_freq back_pain_sev  \n",
       "0                        True       False  False          False         False  \n",
       "1                           1          21     23             15             2  \n",
       "\n",
       "[2 rows x 48 columns]"
      ]
     },
     "execution_count": 336,
     "metadata": {},
     "output_type": "execute_result"
    }
   ],
   "source": [
    "#take the fitted regression and extract the importance ranking of each variable and create a data frame\n",
    "importance=pd.DataFrame([rfe.support_,rfe.ranking_])\n",
    "importance.columns=X_m.columns\n",
    "importance "
   ]
  },
  {
   "cell_type": "markdown",
   "metadata": {},
   "source": [
    "#### Full LR\n",
    "A logistic regression using all available features for prediction"
   ]
  },
  {
   "cell_type": "code",
   "execution_count": 311,
   "metadata": {},
   "outputs": [
    {
     "data": {
      "text/plain": [
       "array([[ 0.36476184,  0.41930332, -0.37414201, -0.16956141,  0.23410986,\n",
       "        -0.38267318, -0.14334883, -0.03806008, -0.00255644, -0.46503335,\n",
       "         0.20613376,  0.5223574 ,  0.51324753,  0.15655032, -0.52559394,\n",
       "         0.09506413,  0.47067241,  0.16373009, -0.25351731, -0.39694335,\n",
       "        -0.28122354,  0.33687867, -0.71589098, -0.05504884,  0.20484653,\n",
       "        -0.4064499 ,  0.        , -0.33654344, -0.29227452,  0.42721459,\n",
       "        -0.84987527,  0.48790012,  0.72072939,  0.93998079,  0.        ,\n",
       "        -0.1370789 , -0.26563833, -0.32641939, -0.20006337,  0.75412426,\n",
       "         0.        , -1.01679283, -0.29643273, -0.17235322, -0.43484152,\n",
       "        -0.01625271, -0.11092015,  0.79254141]])"
      ]
     },
     "execution_count": 311,
     "metadata": {},
     "output_type": "execute_result"
    }
   ],
   "source": [
    "#generate a simple binary logistic regression using the training data (70/30 split)\n",
    "logreg = LogisticRegression(solver=\"liblinear\")\n",
    "result=logreg.fit(X_train, y_train.values.ravel())\n",
    "result.coef_ "
   ]
  },
  {
   "cell_type": "code",
   "execution_count": 312,
   "metadata": {},
   "outputs": [
    {
     "name": "stdout",
     "output_type": "stream",
     "text": [
      "Accuracy of logistic regression classifier on test set: 0.67\n",
      "[[47 13]\n",
      " [14  7]]\n"
     ]
    }
   ],
   "source": [
    "#Measuring performance\n",
    "y_pred = logreg.predict(X_test)\n",
    "print('Accuracy of logistic regression classifier on test set: {:.2f}'.format(logreg.score(X_test, y_test)))\n",
    "confusion_matrix1 = confusion_matrix(y_test, y_pred)\n",
    "print(confusion_matrix1)"
   ]
  },
  {
   "cell_type": "markdown",
   "metadata": {},
   "source": [
    "#### Reduced Features"
   ]
  },
  {
   "cell_type": "code",
   "execution_count": 313,
   "metadata": {},
   "outputs": [
    {
     "data": {
      "text/plain": [
       "array([[ 0.31505527, -0.48039661, -0.29289773,  0.37926065,  0.6184566 ,\n",
       "         0.08332496, -0.46688964, -0.44607767,  0.12616427, -0.1280296 ,\n",
       "         0.49770672,  0.        ,  0.7361075 , -1.06959931,  0.50005167,\n",
       "         0.54882187,  0.83295593,  0.        , -0.30441432, -0.22681582,\n",
       "         0.77960689, -1.10840786, -0.12783169,  0.09315987]])"
      ]
     },
     "execution_count": 313,
     "metadata": {},
     "output_type": "execute_result"
    }
   ],
   "source": [
    "logreg = LogisticRegression(solver=\"liblinear\")\n",
    "resultred=logreg.fit(X_train.loc[:,rfe.support_], y_train.values.ravel())\n",
    "resultred.coef_\n",
    "#rfe.support_"
   ]
  },
  {
   "cell_type": "code",
   "execution_count": 314,
   "metadata": {},
   "outputs": [
    {
     "name": "stdout",
     "output_type": "stream",
     "text": [
      "Accuracy of logistic regression classifier on test set: 0.75\n",
      "[[54  6]\n",
      " [14  7]]\n"
     ]
    }
   ],
   "source": [
    "#Measuring performance\n",
    "y_pred2 = logreg.predict(X_test.loc[:,rfe.support_])\n",
    "print('Accuracy of logistic regression classifier on test set: {:.2f}'.format(logreg.score(X_test.loc[:,rfe.support_], y_test)))\n",
    "confusion_matrix2 = confusion_matrix(y_test, y_pred2)\n",
    "print(confusion_matrix2)"
   ]
  },
  {
   "cell_type": "code",
   "execution_count": 315,
   "metadata": {},
   "outputs": [
    {
     "name": "stdout",
     "output_type": "stream",
     "text": [
      "              precision    recall  f1-score   support\n",
      "\n",
      "           0       0.79      0.90      0.84        60\n",
      "           1       0.54      0.33      0.41        21\n",
      "\n",
      "   micro avg       0.75      0.75      0.75        81\n",
      "   macro avg       0.67      0.62      0.63        81\n",
      "weighted avg       0.73      0.75      0.73        81\n",
      "\n"
     ]
    }
   ],
   "source": [
    "print(classification_report(y_test, y_pred2))"
   ]
  },
  {
   "cell_type": "code",
   "execution_count": 316,
   "metadata": {},
   "outputs": [
    {
     "data": {
      "image/png": "[encoded data removed]",
      "text/plain": [
       "<Figure size 432x288 with 1 Axes>"
      ]
     },
     "metadata": {
      "needs_background": "light"
     },
     "output_type": "display_data"
    }
   ],
   "source": [
    "#Generate an ROC visual \n",
    "logit_roc_auc = roc_auc_score(y_test, logreg.predict(X_test.loc[:,rfe.support_]))\n",
    "fpr, tpr, thresholds = roc_curve(y_test, logreg.predict_proba(X_test.loc[:,rfe.support_])[:,1])\n",
    "plt.figure()\n",
    "plt.plot(fpr, tpr, label='Logistic Regression (area = %0.2f)' % logit_roc_auc)\n",
    "plt.plot([0, 1], [0, 1],'r--')\n",
    "plt.xlim([0.0, 1.0])\n",
    "plt.ylim([0.0, 1.05])\n",
    "plt.xlabel('False Positive Rate')\n",
    "plt.ylabel('True Positive Rate')\n",
    "plt.title('Receiver operating characteristic')\n",
    "plt.legend(loc=\"lower right\")\n",
    "plt.savefig('Log_ROC')\n",
    "plt.show()\n"
   ]
  },
  {
   "cell_type": "markdown",
   "metadata": {},
   "source": [
    "### Random Forest"
   ]
  },
  {
   "cell_type": "code",
   "execution_count": 317,
   "metadata": {},
   "outputs": [
    {
     "data": {
      "text/plain": [
       "RandomForestClassifier(bootstrap=True, class_weight=None, criterion='gini',\n",
       "            max_depth=None, max_features='auto', max_leaf_nodes=None,\n",
       "            min_impurity_decrease=0.0, min_impurity_split=None,\n",
       "            min_samples_leaf=1, min_samples_split=2,\n",
       "            min_weight_fraction_leaf=0.0, n_estimators=1200, n_jobs=None,\n",
       "            oob_score=False, random_state=20, verbose=0, warm_start=False)"
      ]
     },
     "execution_count": 317,
     "metadata": {},
     "output_type": "execute_result"
    }
   ],
   "source": [
    "# Instantiate model with 1200 decision trees\n",
    "rf = RandomForestClassifier(n_estimators = 1200, random_state = 20)\n",
    "# Train the model on training data\n",
    "rf.fit(X_train, y_train.values.ravel())"
   ]
  },
  {
   "cell_type": "code",
   "execution_count": 318,
   "metadata": {},
   "outputs": [
    {
     "name": "stdout",
     "output_type": "stream",
     "text": [
      "Accuracy of random forest classifier on test set: 0.75\n",
      "[[58  2]\n",
      " [18  3]]\n",
      "              precision    recall  f1-score   support\n",
      "\n",
      "           0       0.76      0.97      0.85        60\n",
      "           1       0.60      0.14      0.23        21\n",
      "\n",
      "   micro avg       0.75      0.75      0.75        81\n",
      "   macro avg       0.68      0.55      0.54        81\n",
      "weighted avg       0.72      0.75      0.69        81\n",
      "\n"
     ]
    }
   ],
   "source": [
    "# Use the forest's predict method on the test data\n",
    "predictions = rf.predict(X_test)\n",
    "print('Accuracy of random forest classifier on test set: {:.2f}'.format(rf.score(X_test, y_test)))\n",
    "confusion_matrix3 = confusion_matrix(y_test, predictions)\n",
    "print(confusion_matrix3)\n",
    "print(classification_report(y_test, predictions))\n"
   ]
  },
  {
   "cell_type": "code",
   "execution_count": 333,
   "metadata": {},
   "outputs": [
    {
     "data": {
      "text/html": [
       "<div>\n",
       "<style scoped>\n",
       "    .dataframe tbody tr th:only-of-type {\n",
       "        vertical-align: middle;\n",
       "    }\n",
       "\n",
       "    .dataframe tbody tr th {\n",
       "        vertical-align: top;\n",
       "    }\n",
       "\n",
       "    .dataframe thead th {\n",
       "        text-align: right;\n",
       "    }\n",
       "</style>\n",
       "<table border=\"1\" class=\"dataframe\">\n",
       "  <thead>\n",
       "    <tr style=\"text-align: right;\">\n",
       "      <th></th>\n",
       "      <th>commute_time</th>\n",
       "      <th>sit_ratio</th>\n",
       "      <th>sleep_sat</th>\n",
       "      <th>activity</th>\n",
       "      <th>pain_freq</th>\n",
       "      <th>pain_severe</th>\n",
       "      <th>commute_bike</th>\n",
       "      <th>commute_walk</th>\n",
       "      <th>commute_drive</th>\n",
       "      <th>commute_public</th>\n",
       "      <th>...</th>\n",
       "      <th>country_singapore</th>\n",
       "      <th>country_spain</th>\n",
       "      <th>country_uae</th>\n",
       "      <th>country_usa</th>\n",
       "      <th>tracker_No</th>\n",
       "      <th>tracker_Own, but do not use</th>\n",
       "      <th>tracker_Yes</th>\n",
       "      <th>age</th>\n",
       "      <th>back_pain_freq</th>\n",
       "      <th>back_pain_sev</th>\n",
       "    </tr>\n",
       "  </thead>\n",
       "  <tbody>\n",
       "    <tr>\n",
       "      <th>0</th>\n",
       "      <td>0.049737</td>\n",
       "      <td>0.048663</td>\n",
       "      <td>0.061997</td>\n",
       "      <td>0.055074</td>\n",
       "      <td>0.043502</td>\n",
       "      <td>0.044235</td>\n",
       "      <td>0.006593</td>\n",
       "      <td>0.013786</td>\n",
       "      <td>0.015906</td>\n",
       "      <td>0.013605</td>\n",
       "      <td>...</td>\n",
       "      <td>0.000196</td>\n",
       "      <td>0.006375</td>\n",
       "      <td>0.0</td>\n",
       "      <td>0.007123</td>\n",
       "      <td>0.022367</td>\n",
       "      <td>0.01011</td>\n",
       "      <td>0.022482</td>\n",
       "      <td>0.094308</td>\n",
       "      <td>0.016547</td>\n",
       "      <td>0.018248</td>\n",
       "    </tr>\n",
       "  </tbody>\n",
       "</table>\n",
       "<p>1 rows × 48 columns</p>\n",
       "</div>"
      ],
      "text/plain": [
       "   commute_time  sit_ratio  sleep_sat  activity  pain_freq  pain_severe  \\\n",
       "0      0.049737   0.048663   0.061997  0.055074   0.043502     0.044235   \n",
       "\n",
       "   commute_bike  commute_walk  commute_drive  commute_public  ...  \\\n",
       "0      0.006593      0.013786       0.015906        0.013605  ...   \n",
       "\n",
       "   country_singapore  country_spain  country_uae  country_usa  tracker_No  \\\n",
       "0           0.000196       0.006375          0.0     0.007123    0.022367   \n",
       "\n",
       "   tracker_Own, but do not use  tracker_Yes       age  back_pain_freq  \\\n",
       "0                      0.01011     0.022482  0.094308        0.016547   \n",
       "\n",
       "   back_pain_sev  \n",
       "0       0.018248  \n",
       "\n",
       "[1 rows x 48 columns]"
      ]
     },
     "execution_count": 333,
     "metadata": {},
     "output_type": "execute_result"
    }
   ],
   "source": [
    "rfimportance=pd.DataFrame(rf.feature_importances_.reshape(-1, len(rf.feature_importances_)), columns=X_train.columns)\n",
    "rfimportance"
   ]
  },
  {
   "cell_type": "code",
   "execution_count": 321,
   "metadata": {},
   "outputs": [
    {
     "data": {
      "image/png": "[encoded data removed]",
      "text/plain": [
       "<Figure size 432x288 with 1 Axes>"
      ]
     },
     "metadata": {
      "needs_background": "light"
     },
     "output_type": "display_data"
    }
   ],
   "source": [
    "#Generate ROC for Random Forest Classifer\n",
    "rf_roc_auc = roc_auc_score(y_test, rf.predict(X_test))\n",
    "fpr, tpr, thresholds = roc_curve(y_test, rf.predict_proba(X_test)[:,1])\n",
    "plt.figure()\n",
    "plt.plot(fpr, tpr, label='Logistic Regression (area = %0.2f)' % rf_roc_auc)\n",
    "plt.plot([0, 1], [0, 1],'r--')\n",
    "plt.xlim([0.0, 1.0])\n",
    "plt.ylim([0.0, 1.05])\n",
    "plt.xlabel('False Positive Rate')\n",
    "plt.ylabel('True Positive Rate')\n",
    "plt.title('Receiver operating characteristic')\n",
    "plt.legend(loc=\"lower right\")\n",
    "plt.savefig('Log_ROC')\n",
    "plt.show()\n",
    "\n",
    "#Odes not appear to improve upon logistic"
   ]
  },
  {
   "cell_type": "code",
   "execution_count": 342,
   "metadata": {},
   "outputs": [],
   "source": [
    "#Another way to find feature importance\n",
    "rfe = RFE(rf)\n",
    "rfe = rfe.fit(X_m, y.values.ravel())\n"
   ]
  },
  {
   "cell_type": "code",
   "execution_count": 343,
   "metadata": {},
   "outputs": [
    {
     "data": {
      "text/html": [
       "<div>\n",
       "<style scoped>\n",
       "    .dataframe tbody tr th:only-of-type {\n",
       "        vertical-align: middle;\n",
       "    }\n",
       "\n",
       "    .dataframe tbody tr th {\n",
       "        vertical-align: top;\n",
       "    }\n",
       "\n",
       "    .dataframe thead th {\n",
       "        text-align: right;\n",
       "    }\n",
       "</style>\n",
       "<table border=\"1\" class=\"dataframe\">\n",
       "  <thead>\n",
       "    <tr style=\"text-align: right;\">\n",
       "      <th></th>\n",
       "      <th>commute_time</th>\n",
       "      <th>sit_ratio</th>\n",
       "      <th>sleep_sat</th>\n",
       "      <th>activity</th>\n",
       "      <th>pain_freq</th>\n",
       "      <th>pain_severe</th>\n",
       "      <th>commute_bike</th>\n",
       "      <th>commute_walk</th>\n",
       "      <th>commute_drive</th>\n",
       "      <th>commute_public</th>\n",
       "      <th>...</th>\n",
       "      <th>country_singapore</th>\n",
       "      <th>country_spain</th>\n",
       "      <th>country_uae</th>\n",
       "      <th>country_usa</th>\n",
       "      <th>tracker_No</th>\n",
       "      <th>tracker_Own, but do not use</th>\n",
       "      <th>tracker_Yes</th>\n",
       "      <th>age</th>\n",
       "      <th>back_pain_freq</th>\n",
       "      <th>back_pain_sev</th>\n",
       "    </tr>\n",
       "  </thead>\n",
       "  <tbody>\n",
       "    <tr>\n",
       "      <th>0</th>\n",
       "      <td>True</td>\n",
       "      <td>True</td>\n",
       "      <td>True</td>\n",
       "      <td>True</td>\n",
       "      <td>True</td>\n",
       "      <td>True</td>\n",
       "      <td>False</td>\n",
       "      <td>False</td>\n",
       "      <td>False</td>\n",
       "      <td>False</td>\n",
       "      <td>...</td>\n",
       "      <td>False</td>\n",
       "      <td>False</td>\n",
       "      <td>False</td>\n",
       "      <td>False</td>\n",
       "      <td>True</td>\n",
       "      <td>False</td>\n",
       "      <td>True</td>\n",
       "      <td>True</td>\n",
       "      <td>False</td>\n",
       "      <td>False</td>\n",
       "    </tr>\n",
       "    <tr>\n",
       "      <th>1</th>\n",
       "      <td>1</td>\n",
       "      <td>1</td>\n",
       "      <td>1</td>\n",
       "      <td>1</td>\n",
       "      <td>1</td>\n",
       "      <td>1</td>\n",
       "      <td>16</td>\n",
       "      <td>6</td>\n",
       "      <td>3</td>\n",
       "      <td>11</td>\n",
       "      <td>...</td>\n",
       "      <td>23</td>\n",
       "      <td>17</td>\n",
       "      <td>25</td>\n",
       "      <td>14</td>\n",
       "      <td>1</td>\n",
       "      <td>15</td>\n",
       "      <td>1</td>\n",
       "      <td>1</td>\n",
       "      <td>8</td>\n",
       "      <td>4</td>\n",
       "    </tr>\n",
       "  </tbody>\n",
       "</table>\n",
       "<p>2 rows × 48 columns</p>\n",
       "</div>"
      ],
      "text/plain": [
       "  commute_time sit_ratio sleep_sat activity pain_freq pain_severe  \\\n",
       "0         True      True      True     True      True        True   \n",
       "1            1         1         1        1         1           1   \n",
       "\n",
       "  commute_bike commute_walk commute_drive commute_public  ...  \\\n",
       "0        False        False         False          False  ...   \n",
       "1           16            6             3             11  ...   \n",
       "\n",
       "  country_singapore country_spain country_uae country_usa tracker_No  \\\n",
       "0             False         False       False       False       True   \n",
       "1                23            17          25          14          1   \n",
       "\n",
       "  tracker_Own, but do not use tracker_Yes   age back_pain_freq back_pain_sev  \n",
       "0                       False        True  True          False         False  \n",
       "1                          15           1     1              8             4  \n",
       "\n",
       "[2 rows x 48 columns]"
      ]
     },
     "execution_count": 343,
     "metadata": {},
     "output_type": "execute_result"
    }
   ],
   "source": [
    "#using RFE to extract a seperate feature importance table\n",
    "features=pd.DataFrame([rfe.support_,rfe.ranking_])\n",
    "features.columns=X_m.columns\n",
    "features"
   ]
  },
  {
   "cell_type": "markdown",
   "metadata": {},
   "source": [
    "#### Which features were marked as important for Logistic Regression and Random Forest?"
   ]
  },
  {
   "cell_type": "code",
   "execution_count": 345,
   "metadata": {},
   "outputs": [
    {
     "data": {
      "text/html": [
       "<div>\n",
       "<style scoped>\n",
       "    .dataframe tbody tr th:only-of-type {\n",
       "        vertical-align: middle;\n",
       "    }\n",
       "\n",
       "    .dataframe tbody tr th {\n",
       "        vertical-align: top;\n",
       "    }\n",
       "\n",
       "    .dataframe thead th {\n",
       "        text-align: right;\n",
       "    }\n",
       "</style>\n",
       "<table border=\"1\" class=\"dataframe\">\n",
       "  <thead>\n",
       "    <tr style=\"text-align: right;\">\n",
       "      <th></th>\n",
       "      <th>commute_time</th>\n",
       "      <th>sit_ratio</th>\n",
       "      <th>sleep_sat</th>\n",
       "      <th>activity</th>\n",
       "      <th>pain_freq</th>\n",
       "      <th>pain_severe</th>\n",
       "      <th>commute_bike</th>\n",
       "      <th>commute_walk</th>\n",
       "      <th>commute_drive</th>\n",
       "      <th>commute_public</th>\n",
       "      <th>...</th>\n",
       "      <th>country_singapore</th>\n",
       "      <th>country_spain</th>\n",
       "      <th>country_uae</th>\n",
       "      <th>country_usa</th>\n",
       "      <th>tracker_No</th>\n",
       "      <th>tracker_Own, but do not use</th>\n",
       "      <th>tracker_Yes</th>\n",
       "      <th>age</th>\n",
       "      <th>back_pain_freq</th>\n",
       "      <th>back_pain_sev</th>\n",
       "    </tr>\n",
       "  </thead>\n",
       "  <tbody>\n",
       "    <tr>\n",
       "      <th>0</th>\n",
       "      <td>True</td>\n",
       "      <td>False</td>\n",
       "      <td>True</td>\n",
       "      <td>False</td>\n",
       "      <td>False</td>\n",
       "      <td>False</td>\n",
       "      <td>True</td>\n",
       "      <td>True</td>\n",
       "      <td>True</td>\n",
       "      <td>False</td>\n",
       "      <td>...</td>\n",
       "      <td>True</td>\n",
       "      <td>False</td>\n",
       "      <td>True</td>\n",
       "      <td>False</td>\n",
       "      <td>True</td>\n",
       "      <td>False</td>\n",
       "      <td>False</td>\n",
       "      <td>False</td>\n",
       "      <td>True</td>\n",
       "      <td>True</td>\n",
       "    </tr>\n",
       "  </tbody>\n",
       "</table>\n",
       "<p>1 rows × 48 columns</p>\n",
       "</div>"
      ],
      "text/plain": [
       "   commute_time  sit_ratio  sleep_sat  activity  pain_freq  pain_severe  \\\n",
       "0          True      False       True     False      False        False   \n",
       "\n",
       "   commute_bike  commute_walk  commute_drive  commute_public  ...  \\\n",
       "0          True          True           True           False  ...   \n",
       "\n",
       "   country_singapore  country_spain  country_uae  country_usa  tracker_No  \\\n",
       "0               True          False         True        False        True   \n",
       "\n",
       "   tracker_Own, but do not use  tracker_Yes    age  back_pain_freq  \\\n",
       "0                        False        False  False            True   \n",
       "\n",
       "   back_pain_sev  \n",
       "0           True  \n",
       "\n",
       "[1 rows x 48 columns]"
      ]
     },
     "execution_count": 345,
     "metadata": {},
     "output_type": "execute_result"
    }
   ],
   "source": [
    "#finding which features where flagged as important in both logistic regression and random forest models\n",
    "matching=features.iloc[0,:].values.ravel()==(importance.iloc[0,:].values.ravel())\n",
    "\n",
    "same_feat=pd.DataFrame(matching.reshape(-1, len(matching)), columns=X_train.columns)\n",
    "same_feat"
   ]
  },
  {
   "cell_type": "markdown",
   "metadata": {},
   "source": [
    "##### Important Features:\n",
    "Age,\n",
    "Tracker, \n",
    "Commute Time,\n",
    "Sleep Satisfaction,\n",
    "Commute type,\n",
    "Country,\n",
    "Back Pain Frequency and Severity,\n",
    "Pain location,\n",
    "Gone to a doctor or had PT,\n",
    "Gender"
   ]
  },
  {
   "cell_type": "markdown",
   "metadata": {},
   "source": [
    "### KNN"
   ]
  },
  {
   "cell_type": "code",
   "execution_count": 81,
   "metadata": {},
   "outputs": [
    {
     "data": {
      "text/plain": [
       "{1: 0.6172839506172839,\n",
       " 2: 0.7283950617283951,\n",
       " 3: 0.7283950617283951,\n",
       " 4: 0.7283950617283951,\n",
       " 5: 0.7037037037037037,\n",
       " 6: 0.7283950617283951,\n",
       " 7: 0.7407407407407407,\n",
       " 8: 0.7407407407407407}"
      ]
     },
     "execution_count": 81,
     "metadata": {},
     "output_type": "execute_result"
    }
   ],
   "source": [
    "scores={1:0,2:0,3:0,4:0,5:0,6:0,7:0,8:0,9:0,10:0,11:0,12:0}\n",
    "for n in range(1,13):\n",
    "    knnmodel=KNeighborsClassifier(n_neighbors=n, )\n",
    "    knnmodel.fit(X_train,y_train.values.ravel())\n",
    "    knnpred = knnmodel.predict(X_test)\n",
    "    scores[n]=knnmodel.score(X_test, y_test)\n",
    "scores\n",
    "# N= 4 appears to be the best performing at first glance"
   ]
  },
  {
   "cell_type": "code",
   "execution_count": 347,
   "metadata": {},
   "outputs": [
    {
     "name": "stdout",
     "output_type": "stream",
     "text": [
      "Accuracy of KNN classifier on test set (w/ n=4): 0.73\n",
      "[[58  2]\n",
      " [20  1]]\n",
      "              precision    recall  f1-score   support\n",
      "\n",
      "           0       0.74      0.97      0.84        60\n",
      "           1       0.33      0.05      0.08        21\n",
      "\n",
      "   micro avg       0.73      0.73      0.73        81\n",
      "   macro avg       0.54      0.51      0.46        81\n",
      "weighted avg       0.64      0.73      0.64        81\n",
      "\n"
     ]
    }
   ],
   "source": [
    "#Train a KNN model with n=4\n",
    "knnmodel=KNeighborsClassifier(n_neighbors=4)\n",
    "knnmodel.fit(X_train,y_train.values.ravel())\n",
    "knnpred = knnmodel.predict(X_test)\n",
    "print('Accuracy of KNN classifier on test set (w/ n=4): {:.2f}'.format(knnmodel.score(X_test, y_test)))\n",
    "confusion_matrix4 = confusion_matrix(y_test, knnpred)\n",
    "print(confusion_matrix4)\n",
    "print(classification_report(y_test, knnpred))\n",
    "\n",
    "#similiar results to the RF and LR"
   ]
  },
  {
   "cell_type": "code",
   "execution_count": 348,
   "metadata": {},
   "outputs": [
    {
     "data": {
      "image/png": "[encoded data removed]",
      "text/plain": [
       "<Figure size 432x288 with 1 Axes>"
      ]
     },
     "metadata": {
      "needs_background": "light"
     },
     "output_type": "display_data"
    }
   ],
   "source": [
    "rf_roc_auc = roc_auc_score(y_test, knnpred)\n",
    "fpr, tpr, thresholds = roc_curve(y_test, knnmodel.predict_proba(X_test)[:,1])\n",
    "plt.figure()\n",
    "plt.plot(fpr, tpr, label='KNN Classifier (area = %0.2f)' % rf_roc_auc)\n",
    "plt.plot([0, 1], [0, 1],'r--')\n",
    "plt.xlim([0.0, 1.0])\n",
    "plt.ylim([0.0, 1.05])\n",
    "plt.xlabel('False Positive Rate')\n",
    "plt.ylabel('True Positive Rate')\n",
    "plt.title('Receiver operating characteristic')\n",
    "plt.legend(loc=\"lower right\")\n",
    "plt.savefig('Log_ROC')\n",
    "plt.show()"
   ]
  },
  {
   "cell_type": "markdown",
   "metadata": {},
   "source": [
    "Logistic regression models seemingly outperform RF and KNN. RF and KNN both have a higher proportion of False negatives compared to LR"
   ]
  },
  {
   "cell_type": "markdown",
   "metadata": {},
   "source": [
    "##### How granular can our classification become?\n",
    "Attempting to classify more granular states such as \"occasional pain\" vs \"pain most of the time\" vs \"pain constantly\". Previosuly we were classifying \"frequent pain\" vs \"no frequent pain\""
   ]
  },
  {
   "cell_type": "code",
   "execution_count": 355,
   "metadata": {},
   "outputs": [],
   "source": [
    "#Switch taget variable to the ordinal feature and remove the artificial binary feature\n",
    "y_f=pd.DataFrame(X[\"posture\"], columns=[\"posture\"])\n",
    "X_f=X.drop([\"posture\", \"poor_posture\"], axis=1)\n",
    "X_trainf, X_testf, y_trainf, y_testf = ms.train_test_split(X_f, y_f, test_size=0.3, random_state=20)"
   ]
  },
  {
   "cell_type": "code",
   "execution_count": 356,
   "metadata": {},
   "outputs": [
    {
     "data": {
      "text/html": [
       "<div>\n",
       "<style scoped>\n",
       "    .dataframe tbody tr th:only-of-type {\n",
       "        vertical-align: middle;\n",
       "    }\n",
       "\n",
       "    .dataframe tbody tr th {\n",
       "        vertical-align: top;\n",
       "    }\n",
       "\n",
       "    .dataframe thead th {\n",
       "        text-align: right;\n",
       "    }\n",
       "</style>\n",
       "<table border=\"1\" class=\"dataframe\">\n",
       "  <thead>\n",
       "    <tr style=\"text-align: right;\">\n",
       "      <th></th>\n",
       "      <th>commute_time</th>\n",
       "      <th>sit_ratio</th>\n",
       "      <th>sleep_sat</th>\n",
       "      <th>activity</th>\n",
       "      <th>pain_freq</th>\n",
       "      <th>pain_severe</th>\n",
       "      <th>commute_bike</th>\n",
       "      <th>commute_walk</th>\n",
       "      <th>commute_drive</th>\n",
       "      <th>commute_public</th>\n",
       "      <th>...</th>\n",
       "      <th>country_singapore</th>\n",
       "      <th>country_spain</th>\n",
       "      <th>country_uae</th>\n",
       "      <th>country_usa</th>\n",
       "      <th>tracker_No</th>\n",
       "      <th>tracker_Own, but do not use</th>\n",
       "      <th>tracker_Yes</th>\n",
       "      <th>age</th>\n",
       "      <th>back_pain_freq</th>\n",
       "      <th>back_pain_sev</th>\n",
       "    </tr>\n",
       "  </thead>\n",
       "  <tbody>\n",
       "    <tr>\n",
       "      <th>0</th>\n",
       "      <td>True</td>\n",
       "      <td>True</td>\n",
       "      <td>True</td>\n",
       "      <td>True</td>\n",
       "      <td>True</td>\n",
       "      <td>True</td>\n",
       "      <td>False</td>\n",
       "      <td>True</td>\n",
       "      <td>False</td>\n",
       "      <td>False</td>\n",
       "      <td>...</td>\n",
       "      <td>False</td>\n",
       "      <td>False</td>\n",
       "      <td>False</td>\n",
       "      <td>False</td>\n",
       "      <td>True</td>\n",
       "      <td>False</td>\n",
       "      <td>True</td>\n",
       "      <td>True</td>\n",
       "      <td>False</td>\n",
       "      <td>False</td>\n",
       "    </tr>\n",
       "    <tr>\n",
       "      <th>1</th>\n",
       "      <td>1</td>\n",
       "      <td>1</td>\n",
       "      <td>1</td>\n",
       "      <td>1</td>\n",
       "      <td>1</td>\n",
       "      <td>1</td>\n",
       "      <td>16</td>\n",
       "      <td>1</td>\n",
       "      <td>7</td>\n",
       "      <td>9</td>\n",
       "      <td>...</td>\n",
       "      <td>24</td>\n",
       "      <td>18</td>\n",
       "      <td>25</td>\n",
       "      <td>15</td>\n",
       "      <td>1</td>\n",
       "      <td>14</td>\n",
       "      <td>1</td>\n",
       "      <td>1</td>\n",
       "      <td>10</td>\n",
       "      <td>4</td>\n",
       "    </tr>\n",
       "  </tbody>\n",
       "</table>\n",
       "<p>2 rows × 48 columns</p>\n",
       "</div>"
      ],
      "text/plain": [
       "  commute_time sit_ratio sleep_sat activity pain_freq pain_severe  \\\n",
       "0         True      True      True     True      True        True   \n",
       "1            1         1         1        1         1           1   \n",
       "\n",
       "  commute_bike commute_walk commute_drive commute_public  ...  \\\n",
       "0        False         True         False          False  ...   \n",
       "1           16            1             7              9  ...   \n",
       "\n",
       "  country_singapore country_spain country_uae country_usa tracker_No  \\\n",
       "0             False         False       False       False       True   \n",
       "1                24            18          25          15          1   \n",
       "\n",
       "  tracker_Own, but do not use tracker_Yes   age back_pain_freq back_pain_sev  \n",
       "0                       False        True  True          False         False  \n",
       "1                          14           1     1             10             4  \n",
       "\n",
       "[2 rows x 48 columns]"
      ]
     },
     "execution_count": 356,
     "metadata": {},
     "output_type": "execute_result"
    }
   ],
   "source": [
    "logreg_f = LogisticRegression(multi_class=\"multinomial\",solver=\"newton-cg\", random_state=20)\n",
    "rfe_f = RFE(logreg_f)\n",
    "rfe_f = rfe.fit(X_f, y_f.values.ravel())\n",
    "importance_f=pd.DataFrame([rfe_f.support_,rfe_f.ranking_])\n",
    "importance_f.columns=X_f.columns\n",
    "importance_f"
   ]
  },
  {
   "cell_type": "code",
   "execution_count": 358,
   "metadata": {},
   "outputs": [
    {
     "name": "stdout",
     "output_type": "stream",
     "text": [
      "Accuracy of logistic regression classifier on test set: 0.54\n",
      "[[ 0  0  1  0  0]\n",
      " [ 0  8 11  1  0]\n",
      " [ 0 11 27 10  1]\n",
      " [ 0  1  1  9  0]\n",
      " [ 0  0  0  0  0]]\n",
      "              precision    recall  f1-score   support\n",
      "\n",
      "         1.0       0.00      0.00      0.00         1\n",
      "         2.0       0.40      0.40      0.40        20\n",
      "         3.0       0.68      0.55      0.61        49\n",
      "         4.0       0.45      0.82      0.58        11\n",
      "         5.0       0.00      0.00      0.00         0\n",
      "\n",
      "   micro avg       0.54      0.54      0.54        81\n",
      "   macro avg       0.31      0.35      0.32        81\n",
      "weighted avg       0.57      0.54      0.54        81\n",
      "\n"
     ]
    },
    {
     "name": "stderr",
     "output_type": "stream",
     "text": [
      "C:\\Users\\John\\Anaconda3\\lib\\site-packages\\sklearn\\metrics\\classification.py:1143: UndefinedMetricWarning: Precision and F-score are ill-defined and being set to 0.0 in labels with no predicted samples.\n",
      "  'precision', 'predicted', average, warn_for)\n",
      "C:\\Users\\John\\Anaconda3\\lib\\site-packages\\sklearn\\metrics\\classification.py:1145: UndefinedMetricWarning: Recall and F-score are ill-defined and being set to 0.0 in labels with no true samples.\n",
      "  'recall', 'true', average, warn_for)\n"
     ]
    }
   ],
   "source": [
    "resultred_f=logreg_f.fit(X_trainf.loc[:,rfe_f.support_], y_trainf.values.ravel())\n",
    "y_pred_f = logreg_f.predict(X_test.loc[:,rfe_f.support_])\n",
    "print('Accuracy of logistic regression classifier on test set: {:.2f}'.format(logreg_f.score(X_testf.loc[:,rfe_f.support_], y_testf)))\n",
    "confusion_matrix_f = confusion_matrix(y_testf, y_pred_f)\n",
    "print(confusion_matrix_f)\n",
    "print(classification_report(y_testf, y_pred_f))"
   ]
  },
  {
   "cell_type": "code",
   "execution_count": 359,
   "metadata": {},
   "outputs": [
    {
     "name": "stdout",
     "output_type": "stream",
     "text": [
      "Accuracy of random forest classifier on test set: 0.58\n",
      "[[ 0  1  0  0]\n",
      " [ 0  6 14  0]\n",
      " [ 0  8 37  4]\n",
      " [ 0  1  6  4]]\n",
      "              precision    recall  f1-score   support\n",
      "\n",
      "         1.0       0.00      0.00      0.00         1\n",
      "         2.0       0.38      0.30      0.33        20\n",
      "         3.0       0.65      0.76      0.70        49\n",
      "         4.0       0.50      0.36      0.42        11\n",
      "\n",
      "   micro avg       0.58      0.58      0.58        81\n",
      "   macro avg       0.38      0.35      0.36        81\n",
      "weighted avg       0.55      0.58      0.56        81\n",
      "\n"
     ]
    },
    {
     "name": "stderr",
     "output_type": "stream",
     "text": [
      "C:\\Users\\John\\Anaconda3\\lib\\site-packages\\sklearn\\metrics\\classification.py:1143: UndefinedMetricWarning: Precision and F-score are ill-defined and being set to 0.0 in labels with no predicted samples.\n",
      "  'precision', 'predicted', average, warn_for)\n"
     ]
    }
   ],
   "source": [
    "# Instantiate model with 1000 decision trees\n",
    "rf_f = RandomForestClassifier(n_estimators = 1200, random_state = 20)\n",
    "# Train the model on training data\n",
    "rf_f.fit(X_trainf, y_trainf.values.ravel())\n",
    "predictions_f = rf_f.predict(X_testf)\n",
    "print('Accuracy of random forest classifier on test set: {:.2f}'.format(rf_f.score(X_testf, y_testf)))\n",
    "confusion_matrixrf_f = confusion_matrix(y_testf, predictions_f)\n",
    "print(confusion_matrixrf_f)\n",
    "print(classification_report(y_testf, predictions_f))"
   ]
  },
  {
   "cell_type": "markdown",
   "metadata": {},
   "source": [
    "As expected, model performance deteriorated while moving to more specific classifications. The random forest regressor performed much worse in perdicting specific posture."
   ]
  },
  {
   "cell_type": "markdown",
   "metadata": {},
   "source": [
    "### <a class=\"anchor\" id=\"pain-severity\">Exploring pain severity</a>\n",
    "Attempting to classify people with and without back pain as we did with poor posture above"
   ]
  },
  {
   "cell_type": "code",
   "execution_count": 360,
   "metadata": {},
   "outputs": [],
   "source": [
    "y_bpf=pd.DataFrame(X[\"back_pain_freq\"], columns=[\"back_pain_freq\"])\n",
    "X_bpf=X.drop([\"back_pain_freq\",\"pain_freq\"], axis=1)\n",
    "X_trainbpf, X_testbpf, y_trainbpf, y_testbpf = ms.train_test_split(X_bpf, y_bpf, test_size=0.3, random_state=20)"
   ]
  },
  {
   "cell_type": "markdown",
   "metadata": {},
   "source": [
    "#### Logistic Regression"
   ]
  },
  {
   "cell_type": "code",
   "execution_count": 361,
   "metadata": {},
   "outputs": [
    {
     "name": "stdout",
     "output_type": "stream",
     "text": [
      "All Features:\n",
      "Accuracy of logistic regression classifier on test set: 0.77\n",
      "[[26 15]\n",
      " [ 4 36]]\n",
      "              precision    recall  f1-score   support\n",
      "\n",
      "           0       0.87      0.63      0.73        41\n",
      "           1       0.71      0.90      0.79        40\n",
      "\n",
      "   micro avg       0.77      0.77      0.77        81\n",
      "   macro avg       0.79      0.77      0.76        81\n",
      "weighted avg       0.79      0.77      0.76        81\n",
      "\n",
      "Reduced Features:\n",
      "Accuracy of logistic regression classifier on test set: 0.79\n",
      "[[29 12]\n",
      " [ 5 35]]\n",
      "              precision    recall  f1-score   support\n",
      "\n",
      "           0       0.85      0.71      0.77        41\n",
      "           1       0.74      0.88      0.80        40\n",
      "\n",
      "   micro avg       0.79      0.79      0.79        81\n",
      "   macro avg       0.80      0.79      0.79        81\n",
      "weighted avg       0.80      0.79      0.79        81\n",
      "\n"
     ]
    },
    {
     "data": {
      "image/png": "[encoded data removed]",
      "text/plain": [
       "<Figure size 432x288 with 1 Axes>"
      ]
     },
     "metadata": {
      "needs_background": "light"
     },
     "output_type": "display_data"
    },
    {
     "data": {
      "text/html": [
       "<div>\n",
       "<style scoped>\n",
       "    .dataframe tbody tr th:only-of-type {\n",
       "        vertical-align: middle;\n",
       "    }\n",
       "\n",
       "    .dataframe tbody tr th {\n",
       "        vertical-align: top;\n",
       "    }\n",
       "\n",
       "    .dataframe thead th {\n",
       "        text-align: right;\n",
       "    }\n",
       "</style>\n",
       "<table border=\"1\" class=\"dataframe\">\n",
       "  <thead>\n",
       "    <tr style=\"text-align: right;\">\n",
       "      <th></th>\n",
       "      <th>commute_time</th>\n",
       "      <th>sit_ratio</th>\n",
       "      <th>sleep_sat</th>\n",
       "      <th>activity</th>\n",
       "      <th>posture</th>\n",
       "      <th>pain_severe</th>\n",
       "      <th>commute_bike</th>\n",
       "      <th>commute_walk</th>\n",
       "      <th>commute_drive</th>\n",
       "      <th>commute_public</th>\n",
       "      <th>...</th>\n",
       "      <th>country_singapore</th>\n",
       "      <th>country_spain</th>\n",
       "      <th>country_uae</th>\n",
       "      <th>country_usa</th>\n",
       "      <th>tracker_No</th>\n",
       "      <th>tracker_Own, but do not use</th>\n",
       "      <th>tracker_Yes</th>\n",
       "      <th>age</th>\n",
       "      <th>poor_posture</th>\n",
       "      <th>back_pain_sev</th>\n",
       "    </tr>\n",
       "  </thead>\n",
       "  <tbody>\n",
       "    <tr>\n",
       "      <th>0</th>\n",
       "      <td>False</td>\n",
       "      <td>False</td>\n",
       "      <td>True</td>\n",
       "      <td>False</td>\n",
       "      <td>True</td>\n",
       "      <td>True</td>\n",
       "      <td>False</td>\n",
       "      <td>False</td>\n",
       "      <td>True</td>\n",
       "      <td>False</td>\n",
       "      <td>...</td>\n",
       "      <td>True</td>\n",
       "      <td>False</td>\n",
       "      <td>False</td>\n",
       "      <td>True</td>\n",
       "      <td>False</td>\n",
       "      <td>True</td>\n",
       "      <td>False</td>\n",
       "      <td>False</td>\n",
       "      <td>True</td>\n",
       "      <td>True</td>\n",
       "    </tr>\n",
       "    <tr>\n",
       "      <th>1</th>\n",
       "      <td>16</td>\n",
       "      <td>9</td>\n",
       "      <td>1</td>\n",
       "      <td>17</td>\n",
       "      <td>1</td>\n",
       "      <td>1</td>\n",
       "      <td>23</td>\n",
       "      <td>19</td>\n",
       "      <td>1</td>\n",
       "      <td>20</td>\n",
       "      <td>...</td>\n",
       "      <td>1</td>\n",
       "      <td>15</td>\n",
       "      <td>25</td>\n",
       "      <td>1</td>\n",
       "      <td>22</td>\n",
       "      <td>1</td>\n",
       "      <td>7</td>\n",
       "      <td>24</td>\n",
       "      <td>1</td>\n",
       "      <td>1</td>\n",
       "    </tr>\n",
       "  </tbody>\n",
       "</table>\n",
       "<p>2 rows × 48 columns</p>\n",
       "</div>"
      ],
      "text/plain": [
       "  commute_time sit_ratio sleep_sat activity posture pain_severe commute_bike  \\\n",
       "0        False     False      True    False    True        True        False   \n",
       "1           16         9         1       17       1           1           23   \n",
       "\n",
       "  commute_walk commute_drive commute_public  ... country_singapore  \\\n",
       "0        False          True          False  ...              True   \n",
       "1           19             1             20  ...                 1   \n",
       "\n",
       "  country_spain country_uae country_usa tracker_No  \\\n",
       "0         False       False        True      False   \n",
       "1            15          25           1         22   \n",
       "\n",
       "  tracker_Own, but do not use tracker_Yes    age poor_posture back_pain_sev  \n",
       "0                        True       False  False         True          True  \n",
       "1                           1           7     24            1             1  \n",
       "\n",
       "[2 rows x 48 columns]"
      ]
     },
     "execution_count": 361,
     "metadata": {},
     "output_type": "execute_result"
    }
   ],
   "source": [
    "run_Logistic_Regression(X_bpf,y_bpf,X_trainbpf,y_trainbpf,X_testbpf,y_testbpf)"
   ]
  },
  {
   "cell_type": "markdown",
   "metadata": {},
   "source": [
    "#### Random Forest"
   ]
  },
  {
   "cell_type": "code",
   "execution_count": 362,
   "metadata": {},
   "outputs": [
    {
     "name": "stdout",
     "output_type": "stream",
     "text": [
      "Accuracy of random forest classifier on test set: 0.78\n",
      "[[29 12]\n",
      " [ 6 34]]\n",
      "              precision    recall  f1-score   support\n",
      "\n",
      "           0       0.83      0.71      0.76        41\n",
      "           1       0.74      0.85      0.79        40\n",
      "\n",
      "   micro avg       0.78      0.78      0.78        81\n",
      "   macro avg       0.78      0.78      0.78        81\n",
      "weighted avg       0.78      0.78      0.78        81\n",
      "\n"
     ]
    },
    {
     "data": {
      "image/png": "[encoded data removed]",
      "text/plain": [
       "<Figure size 432x288 with 1 Axes>"
      ]
     },
     "metadata": {
      "needs_background": "light"
     },
     "output_type": "display_data"
    },
    {
     "data": {
      "text/html": [
       "<div>\n",
       "<style scoped>\n",
       "    .dataframe tbody tr th:only-of-type {\n",
       "        vertical-align: middle;\n",
       "    }\n",
       "\n",
       "    .dataframe tbody tr th {\n",
       "        vertical-align: top;\n",
       "    }\n",
       "\n",
       "    .dataframe thead th {\n",
       "        text-align: right;\n",
       "    }\n",
       "</style>\n",
       "<table border=\"1\" class=\"dataframe\">\n",
       "  <thead>\n",
       "    <tr style=\"text-align: right;\">\n",
       "      <th></th>\n",
       "      <th>commute_time</th>\n",
       "      <th>sit_ratio</th>\n",
       "      <th>sleep_sat</th>\n",
       "      <th>activity</th>\n",
       "      <th>posture</th>\n",
       "      <th>pain_severe</th>\n",
       "      <th>commute_bike</th>\n",
       "      <th>commute_walk</th>\n",
       "      <th>commute_drive</th>\n",
       "      <th>commute_public</th>\n",
       "      <th>...</th>\n",
       "      <th>country_singapore</th>\n",
       "      <th>country_spain</th>\n",
       "      <th>country_uae</th>\n",
       "      <th>country_usa</th>\n",
       "      <th>tracker_No</th>\n",
       "      <th>tracker_Own, but do not use</th>\n",
       "      <th>tracker_Yes</th>\n",
       "      <th>age</th>\n",
       "      <th>poor_posture</th>\n",
       "      <th>back_pain_sev</th>\n",
       "    </tr>\n",
       "  </thead>\n",
       "  <tbody>\n",
       "    <tr>\n",
       "      <th>0</th>\n",
       "      <td>0.049737</td>\n",
       "      <td>0.048663</td>\n",
       "      <td>0.061997</td>\n",
       "      <td>0.055074</td>\n",
       "      <td>0.043502</td>\n",
       "      <td>0.044235</td>\n",
       "      <td>0.006593</td>\n",
       "      <td>0.013786</td>\n",
       "      <td>0.015906</td>\n",
       "      <td>0.013605</td>\n",
       "      <td>...</td>\n",
       "      <td>0.000196</td>\n",
       "      <td>0.006375</td>\n",
       "      <td>0.0</td>\n",
       "      <td>0.007123</td>\n",
       "      <td>0.022367</td>\n",
       "      <td>0.01011</td>\n",
       "      <td>0.022482</td>\n",
       "      <td>0.094308</td>\n",
       "      <td>0.016547</td>\n",
       "      <td>0.018248</td>\n",
       "    </tr>\n",
       "  </tbody>\n",
       "</table>\n",
       "<p>1 rows × 48 columns</p>\n",
       "</div>"
      ],
      "text/plain": [
       "   commute_time  sit_ratio  sleep_sat  activity   posture  pain_severe  \\\n",
       "0      0.049737   0.048663   0.061997  0.055074  0.043502     0.044235   \n",
       "\n",
       "   commute_bike  commute_walk  commute_drive  commute_public  ...  \\\n",
       "0      0.006593      0.013786       0.015906        0.013605  ...   \n",
       "\n",
       "   country_singapore  country_spain  country_uae  country_usa  tracker_No  \\\n",
       "0           0.000196       0.006375          0.0     0.007123    0.022367   \n",
       "\n",
       "   tracker_Own, but do not use  tracker_Yes       age  poor_posture  \\\n",
       "0                      0.01011     0.022482  0.094308      0.016547   \n",
       "\n",
       "   back_pain_sev  \n",
       "0       0.018248  \n",
       "\n",
       "[1 rows x 48 columns]"
      ]
     },
     "execution_count": 362,
     "metadata": {},
     "output_type": "execute_result"
    }
   ],
   "source": [
    "run_Random_Forest_Classifier(X_trainbpf,y_trainbpf,X_testbpf,y_testbpf)"
   ]
  },
  {
   "cell_type": "markdown",
   "metadata": {},
   "source": [
    "### <a class=\"anchor\" id=\"pain-loc\">Exploring location of the pain</a>"
   ]
  },
  {
   "cell_type": "code",
   "execution_count": 363,
   "metadata": {},
   "outputs": [],
   "source": [
    "y_bpl=pd.DataFrame(X[[\"pain_neck\",\"pain_lower\",\"pain_shoulder\"]], columns=[\"pain_neck\",\"pain_lower\",\"pain_shoulder\"])\n",
    "X_bpl=X.drop([\"pain_neck\",\"pain_lower\",\"pain_shoulder\"], axis=1)\n",
    "X_trainbpl, X_testbpl, y_trainbpl, y_testbpl = ms.train_test_split(X_bpl, y_bpl, test_size=0.3, random_state=20)"
   ]
  },
  {
   "cell_type": "code",
   "execution_count": 364,
   "metadata": {},
   "outputs": [
    {
     "name": "stdout",
     "output_type": "stream",
     "text": [
      "Accuracy of random forest classifier on test set: 0.31\n",
      "              precision    recall  f1-score   support\n",
      "\n",
      "           0       0.50      0.30      0.38        23\n",
      "           1       0.66      1.00      0.79        52\n",
      "           2       0.60      0.50      0.55        42\n",
      "\n",
      "   micro avg       0.62      0.68      0.65       117\n",
      "   macro avg       0.59      0.60      0.57       117\n",
      "weighted avg       0.61      0.68      0.62       117\n",
      " samples avg       0.63      0.68      0.61       117\n",
      "\n"
     ]
    },
    {
     "name": "stderr",
     "output_type": "stream",
     "text": [
      "C:\\Users\\John\\Anaconda3\\lib\\site-packages\\sklearn\\metrics\\classification.py:1145: UndefinedMetricWarning: Recall and F-score are ill-defined and being set to 0.0 in samples with no true labels.\n",
      "  'recall', 'true', average, warn_for)\n"
     ]
    }
   ],
   "source": [
    "#Training a RF classifier that will output 3 seperate target predictions for each location (neck, shoulders,etc). \n",
    "#Cannot use run_Random_Forest_classifier yet\n",
    "rf_f = RandomForestClassifier(n_estimators = 1200, random_state = 20)\n",
    "    # Train the model on training data\n",
    "rf_f.fit(X_trainbpl, y_trainbpl)\n",
    "predictions_f = rf_f.predict(X_testbpl)\n",
    "print('Accuracy of random forest classifier on test set: {:.2f}'.format(rf_f.score(X_testbpl, y_testbpl)))\n",
    "#confusion_matrixrf_f = confusion_matrix(y_test, predictions_f)\n",
    "#print(confusion_matrixrf_f)\n",
    "print(classification_report(y_testbpl, predictions_f))\n"
   ]
  },
  {
   "cell_type": "code",
   "execution_count": null,
   "metadata": {},
   "outputs": [],
   "source": []
  },
  {
   "cell_type": "markdown",
   "metadata": {},
   "source": [
    "### <a class=\"anchor\" id=\"pain-when\">Exploring when pain occurs</a>"
   ]
  },
  {
   "cell_type": "code",
   "execution_count": 367,
   "metadata": {},
   "outputs": [],
   "source": [
    "y_bpw=pd.DataFrame(X[[\"pain_stand\",\"pain_move\",\"pain_sleep\",\"pain_sed\"]], \n",
    "                   columns=[\"pain_stand\",\"pain_move\",\"pain_sleep\",\"pain_sed\"])\n",
    "X_bpw=X.drop([\"pain_stand\",\"pain_move\",\"pain_sleep\",\"pain_sed\"], axis=1)\n",
    "X_trainbpw, X_testbpw, y_trainbpw, y_testbpw = ms.train_test_split(X_bpw, y_bpw, test_size=0.3, random_state=20)"
   ]
  },
  {
   "cell_type": "code",
   "execution_count": 368,
   "metadata": {},
   "outputs": [
    {
     "name": "stdout",
     "output_type": "stream",
     "text": [
      "Accuracy of random forest classifier on test set: 0.15\n",
      "              precision    recall  f1-score   support\n",
      "\n",
      "           0       0.45      0.47      0.46        32\n",
      "           1       0.53      0.33      0.41        24\n",
      "           2       0.33      0.05      0.09        19\n",
      "           3       0.61      0.65      0.63        46\n",
      "\n",
      "   micro avg       0.54      0.45      0.49       121\n",
      "   macro avg       0.48      0.38      0.40       121\n",
      "weighted avg       0.51      0.45      0.46       121\n",
      " samples avg       0.37      0.36      0.34       121\n",
      "\n"
     ]
    },
    {
     "name": "stderr",
     "output_type": "stream",
     "text": [
      "C:\\Users\\John\\Anaconda3\\lib\\site-packages\\sklearn\\metrics\\classification.py:1143: UndefinedMetricWarning: Precision and F-score are ill-defined and being set to 0.0 in samples with no predicted labels.\n",
      "  'precision', 'predicted', average, warn_for)\n",
      "C:\\Users\\John\\Anaconda3\\lib\\site-packages\\sklearn\\metrics\\classification.py:1145: UndefinedMetricWarning: Recall and F-score are ill-defined and being set to 0.0 in samples with no true labels.\n",
      "  'recall', 'true', average, warn_for)\n"
     ]
    }
   ],
   "source": [
    "#Training a RF classifier that will output 4 seperate target predictions for each time (moving, sleeping,etc). \n",
    "#Cannot use run_Random_Forest_classifier yet\n",
    "rf_f = RandomForestClassifier(n_estimators = 1200, random_state = 20)\n",
    "    # Train the model on training data\n",
    "rf_f.fit(X_trainbpw, y_trainbpw)\n",
    "predictions_w = rf_f.predict(X_testbpw)\n",
    "print('Accuracy of random forest classifier on test set: {:.2f}'.format(rf_f.score(X_testbpw, y_testbpw)))\n",
    "#confusion_matrixrf_f = confusion_matrix(y_test, predictions_f)\n",
    "#print(confusion_matrixrf_f)\n",
    "print(classification_report(y_testbpw, predictions_w))\n"
   ]
  },
  {
   "cell_type": "markdown",
   "metadata": {},
   "source": [
    "### <a class=\"anchor\" id=\"sleep\">Predicting Sleeping Habits</a>"
   ]
  },
  {
   "cell_type": "markdown",
   "metadata": {},
   "source": [
    "##### Sleeping Position"
   ]
  },
  {
   "cell_type": "code",
   "execution_count": 369,
   "metadata": {},
   "outputs": [],
   "source": [
    "y_s=pd.DataFrame(X[[\"sleep_pos_On your back\",\"sleep_pos_On your side\",\"sleep_pos_On your stomach\"]], \n",
    "                   columns=[\"sleep_pos_On your back\",\"sleep_pos_On your side\",\"sleep_pos_On your stomach\"])\n",
    "X_s=X.drop([\"sleep_pos_On your back\",\"sleep_pos_On your side\",\"sleep_pos_On your stomach\"], axis=1)\n",
    "X_trains, X_tests, y_trains, y_tests = ms.train_test_split(X_s, y_s, test_size=0.3, random_state=20)"
   ]
  },
  {
   "cell_type": "code",
   "execution_count": 371,
   "metadata": {},
   "outputs": [
    {
     "name": "stdout",
     "output_type": "stream",
     "text": [
      "Accuracy of random forest classifier on test set: 0.60\n",
      "              precision    recall  f1-score   support\n",
      "\n",
      "           0       1.00      0.09      0.17        11\n",
      "           1       0.62      0.96      0.75        49\n",
      "           2       1.00      0.05      0.09        21\n",
      "\n",
      "   micro avg       0.63      0.60      0.62        81\n",
      "   macro avg       0.87      0.37      0.34        81\n",
      "weighted avg       0.77      0.60      0.50        81\n",
      " samples avg       0.60      0.60      0.60        81\n",
      "\n"
     ]
    },
    {
     "name": "stderr",
     "output_type": "stream",
     "text": [
      "C:\\Users\\John\\Anaconda3\\lib\\site-packages\\sklearn\\metrics\\classification.py:1143: UndefinedMetricWarning: Precision and F-score are ill-defined and being set to 0.0 in samples with no predicted labels.\n",
      "  'precision', 'predicted', average, warn_for)\n"
     ]
    }
   ],
   "source": [
    "#Training a RF classifier that will output 3 seperate target predictions for each sleeping position (side, stomach,etc). \n",
    "#Cannot use run_Random_Forest_classifier yet\n",
    "rf_s = RandomForestClassifier(n_estimators = 1200, random_state = 20)\n",
    "    # Train the model on training data\n",
    "rf_s.fit(X_trains, y_trains)\n",
    "predictions_s = rf_s.predict(X_tests)\n",
    "print('Accuracy of random forest classifier on test set: {:.2f}'.format(rf_s.score(X_tests, y_tests)))\n",
    "#confusion_matrixrf_f = confusion_matrix(y_test, predictions_f)\n",
    "#print(confusion_matrixrf_f)\n",
    "print(classification_report(y_tests, predictions_s))\n"
   ]
  },
  {
   "cell_type": "markdown",
   "metadata": {},
   "source": [
    "##### Sleeping Satisifcation\n",
    "This offers an interesting problem as the response could be considered (and I did consider) ordinal. However, I could not find an existing randomforest implementation that natively handles ordinal outputs. So I ran a regressor and a classifier. The classifer performed better, but all performed worse than the baseline.\n"
   ]
  },
  {
   "cell_type": "code",
   "execution_count": 372,
   "metadata": {},
   "outputs": [],
   "source": [
    "y_ss=pd.DataFrame(X[\"sleep_sat\"], columns=[\"sleep_sat\"])\n",
    "X_ss=X.drop([\"sleep_sat\"], axis=1)\n",
    "X_trainss, X_testss, y_trainss, y_testss = ms.train_test_split(X_ss, y_ss, test_size=0.3, random_state=20)"
   ]
  },
  {
   "cell_type": "code",
   "execution_count": 264,
   "metadata": {},
   "outputs": [
    {
     "name": "stdout",
     "output_type": "stream",
     "text": [
      "R2 of Oridinal Linear regressor on test set: -1.10\n"
     ]
    }
   ],
   "source": [
    "import mord\n",
    "#attempting to train an ordinal linear regressor to handle the ordinal output of sleep satisfaction\n",
    "OrR=mord.OrdinalRidge()\n",
    "OrR.fit(X_trainss,y_trainss)\n",
    "print('R2 of Oridinal Linear regressor on test set: {:.2f}'.format(OrR.score(X_testss, y_testss)))\n"
   ]
  },
  {
   "cell_type": "code",
   "execution_count": 254,
   "metadata": {},
   "outputs": [
    {
     "name": "stdout",
     "output_type": "stream",
     "text": [
      "Accuracy of random forest classifier on test set: 0.40\n"
     ]
    }
   ],
   "source": [
    "#Both regressors and classifiers were tested, but the classification models outperformed each time\n",
    "rf_ss = RandomForestClassifier(n_estimators = 1200, random_state = 20)\n",
    "    # Train the model on training data\n",
    "rf_ss.fit(X_trainss, y_trainss.values.ravel())\n",
    "predictions_ss = (rf_ss.predict(X_testss))\n",
    "print('Accuracy of random forest classifier on test set: {:.2f}'.format(rf_ss.score(X_testss, y_testss)))\n",
    "\n"
   ]
  },
  {
   "cell_type": "code",
   "execution_count": 261,
   "metadata": {},
   "outputs": [
    {
     "data": {
      "text/plain": [
       "{1: 0.2716049382716049,\n",
       " 2: 0.32098765432098764,\n",
       " 3: 0.4074074074074074,\n",
       " 4: 0.4074074074074074,\n",
       " 5: 0.32098765432098764,\n",
       " 6: 0.345679012345679,\n",
       " 7: 0.3333333333333333,\n",
       " 8: 0.3333333333333333,\n",
       " 9: 0.38271604938271603,\n",
       " 10: 0.41975308641975306,\n",
       " 11: 0.43209876543209874,\n",
       " 12: 0.4074074074074074}"
      ]
     },
     "execution_count": 261,
     "metadata": {},
     "output_type": "execute_result"
    }
   ],
   "source": [
    "scores={1:0,2:0,3:0,4:0,5:0,6:0,7:0,8:0,9:0,10:0,11:0,12:0}\n",
    "for n in range(1,13):\n",
    "    knnmodel=KNeighborsClassifier(n_neighbors=n)\n",
    "    knnmodel.fit(X_trainss,y_trainss.values.ravel())\n",
    "    knnpred = knnmodel.predict(X_testss)\n",
    "    scores[n]=knnmodel.score(X_testss, y_testss)\n",
    "scores"
   ]
  },
  {
   "cell_type": "markdown",
   "metadata": {},
   "source": [
    "### <a class=\"anchor\" id=\"activity\">Predicitng Activity Level</a>"
   ]
  },
  {
   "cell_type": "code",
   "execution_count": 265,
   "metadata": {},
   "outputs": [],
   "source": [
    "y_a=pd.DataFrame(X[\"activity\"], \n",
    "                   columns=[\"activity\"])\n",
    "X_a=X.drop([\"activity\"], axis=1)\n",
    "X_traina, X_testa, y_traina, y_testa = ms.train_test_split(X_a, y_a, test_size=0.3, random_state=20)"
   ]
  },
  {
   "cell_type": "code",
   "execution_count": 275,
   "metadata": {},
   "outputs": [
    {
     "name": "stdout",
     "output_type": "stream",
     "text": [
      "All Features:\n",
      "Accuracy of logistic regression classifier on test set: 0.42\n",
      "[[ 3  7  3  1  0]\n",
      " [ 4 22  8  0  0]\n",
      " [ 0 14  7  3  0]\n",
      " [ 0  2  4  2  0]\n",
      " [ 0  1  0  0  0]]\n",
      "              precision    recall  f1-score   support\n",
      "\n",
      "           0       0.43      0.21      0.29        14\n",
      "           1       0.48      0.65      0.55        34\n",
      "           2       0.32      0.29      0.30        24\n",
      "           3       0.33      0.25      0.29         8\n",
      "           4       0.00      0.00      0.00         1\n",
      "\n",
      "   micro avg       0.42      0.42      0.42        81\n",
      "   macro avg       0.31      0.28      0.29        81\n",
      "weighted avg       0.40      0.42      0.40        81\n",
      "\n",
      "Reduced Features:\n",
      "Accuracy of logistic regression classifier on test set: 0.51\n"
     ]
    },
    {
     "name": "stderr",
     "output_type": "stream",
     "text": [
      "C:\\Users\\John\\Anaconda3\\lib\\site-packages\\sklearn\\metrics\\classification.py:1143: UndefinedMetricWarning: Precision and F-score are ill-defined and being set to 0.0 in labels with no predicted samples.\n",
      "  'precision', 'predicted', average, warn_for)\n"
     ]
    },
    {
     "data": {
      "text/html": [
       "<div>\n",
       "<style scoped>\n",
       "    .dataframe tbody tr th:only-of-type {\n",
       "        vertical-align: middle;\n",
       "    }\n",
       "\n",
       "    .dataframe tbody tr th {\n",
       "        vertical-align: top;\n",
       "    }\n",
       "\n",
       "    .dataframe thead th {\n",
       "        text-align: right;\n",
       "    }\n",
       "</style>\n",
       "<table border=\"1\" class=\"dataframe\">\n",
       "  <thead>\n",
       "    <tr style=\"text-align: right;\">\n",
       "      <th></th>\n",
       "      <th>commute_time</th>\n",
       "      <th>sit_ratio</th>\n",
       "      <th>sleep_sat</th>\n",
       "      <th>posture</th>\n",
       "      <th>pain_freq</th>\n",
       "      <th>pain_severe</th>\n",
       "      <th>commute_bike</th>\n",
       "      <th>commute_walk</th>\n",
       "      <th>commute_drive</th>\n",
       "      <th>commute_public</th>\n",
       "      <th>...</th>\n",
       "      <th>country_spain</th>\n",
       "      <th>country_uae</th>\n",
       "      <th>country_usa</th>\n",
       "      <th>tracker_No</th>\n",
       "      <th>tracker_Own, but do not use</th>\n",
       "      <th>tracker_Yes</th>\n",
       "      <th>age</th>\n",
       "      <th>poor_posture</th>\n",
       "      <th>back_pain_freq</th>\n",
       "      <th>back_pain_sev</th>\n",
       "    </tr>\n",
       "  </thead>\n",
       "  <tbody>\n",
       "    <tr>\n",
       "      <th>0</th>\n",
       "      <td>False</td>\n",
       "      <td>False</td>\n",
       "      <td>True</td>\n",
       "      <td>True</td>\n",
       "      <td>False</td>\n",
       "      <td>True</td>\n",
       "      <td>True</td>\n",
       "      <td>False</td>\n",
       "      <td>True</td>\n",
       "      <td>False</td>\n",
       "      <td>...</td>\n",
       "      <td>False</td>\n",
       "      <td>False</td>\n",
       "      <td>True</td>\n",
       "      <td>True</td>\n",
       "      <td>True</td>\n",
       "      <td>True</td>\n",
       "      <td>False</td>\n",
       "      <td>True</td>\n",
       "      <td>True</td>\n",
       "      <td>True</td>\n",
       "    </tr>\n",
       "    <tr>\n",
       "      <th>1</th>\n",
       "      <td>14</td>\n",
       "      <td>2</td>\n",
       "      <td>1</td>\n",
       "      <td>1</td>\n",
       "      <td>4</td>\n",
       "      <td>1</td>\n",
       "      <td>1</td>\n",
       "      <td>5</td>\n",
       "      <td>1</td>\n",
       "      <td>10</td>\n",
       "      <td>...</td>\n",
       "      <td>23</td>\n",
       "      <td>26</td>\n",
       "      <td>1</td>\n",
       "      <td>1</td>\n",
       "      <td>1</td>\n",
       "      <td>1</td>\n",
       "      <td>25</td>\n",
       "      <td>1</td>\n",
       "      <td>1</td>\n",
       "      <td>1</td>\n",
       "    </tr>\n",
       "  </tbody>\n",
       "</table>\n",
       "<p>2 rows × 49 columns</p>\n",
       "</div>"
      ],
      "text/plain": [
       "  commute_time sit_ratio sleep_sat posture pain_freq pain_severe commute_bike  \\\n",
       "0        False     False      True    True     False        True         True   \n",
       "1           14         2         1       1         4           1            1   \n",
       "\n",
       "  commute_walk commute_drive commute_public  ... country_spain country_uae  \\\n",
       "0        False          True          False  ...         False       False   \n",
       "1            5             1             10  ...            23          26   \n",
       "\n",
       "  country_usa tracker_No tracker_Own, but do not use tracker_Yes    age  \\\n",
       "0        True       True                        True        True  False   \n",
       "1           1          1                           1           1     25   \n",
       "\n",
       "  poor_posture back_pain_freq back_pain_sev  \n",
       "0         True           True          True  \n",
       "1            1              1             1  \n",
       "\n",
       "[2 rows x 49 columns]"
      ]
     },
     "execution_count": 275,
     "metadata": {},
     "output_type": "execute_result"
    }
   ],
   "source": [
    "#Multi-target logistic regression for classifying how active a person is\n",
    "run_Logistic_Regression(X_a,y_a,X_traina, y_traina,X_testa, y_testa, multi_class=\"multinomial\",solver=\"newton-cg\" , extra=False)"
   ]
  },
  {
   "cell_type": "code",
   "execution_count": 266,
   "metadata": {},
   "outputs": [
    {
     "name": "stdout",
     "output_type": "stream",
     "text": [
      "R2 of Oridinal Linear regressor on test set: -0.83\n"
     ]
    }
   ],
   "source": [
    "#testing the mord Ordinal regression method again\n",
    "OrR=mord.OrdinalRidge()\n",
    "OrR.fit(X_traina,y_traina)\n",
    "print('R2 of Oridinal Linear regressor on test set: {:.2f}'.format(OrR.score(X_testa, y_testa)))\n"
   ]
  },
  {
   "cell_type": "code",
   "execution_count": 269,
   "metadata": {},
   "outputs": [
    {
     "name": "stdout",
     "output_type": "stream",
     "text": [
      "Accuracy of random forest classifier on test set: 0.22\n"
     ]
    }
   ],
   "source": [
    "rf_a = RandomForestClassifier(n_estimators = 1200, random_state = 20)\n",
    "rf_a.fit(X_traina, y_traina.values.ravel())\n",
    "predictions_a = (rf_a.predict(X_testa))\n",
    "print('Accuracy of random forest classifier on test set: {:.2f}'.format(rf_ss.score(X_testa, y_testa)))\n"
   ]
  },
  {
   "cell_type": "code",
   "execution_count": 271,
   "metadata": {},
   "outputs": [
    {
     "data": {
      "text/plain": [
       "0.41975308641975306"
      ]
     },
     "execution_count": 271,
     "metadata": {},
     "output_type": "execute_result"
    }
   ],
   "source": [
    "#Knn\n",
    "scores={1:0,2:0,3:0,4:0,5:0,6:0,7:0,8:0,9:0,10:0,11:0,12:0}\n",
    "for n in range(1,13):\n",
    "    knnmodel=KNeighborsClassifier(n_neighbors=n)\n",
    "    knnmodel.fit(X_traina,y_traina.values.ravel())\n",
    "    knnpred = knnmodel.predict(X_testa)\n",
    "    scores[n]=knnmodel.score(X_testa, y_testa)\n",
    "scores[2]"
   ]
  }
 ],
 "metadata": {
  "kernelspec": {
   "display_name": "Python 3",
   "language": "python",
   "name": "python3"
  },
  "language_info": {
   "codemirror_mode": {
    "name": "ipython",
    "version": 3
   },
   "file_extension": ".py",
   "mimetype": "text/x-python",
   "name": "python",
   "nbconvert_exporter": "python",
   "pygments_lexer": "ipython3",
   "version": "3.7.3"
  }
 },
 "nbformat": 4,
 "nbformat_minor": 2
}
